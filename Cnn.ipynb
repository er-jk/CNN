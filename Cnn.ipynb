{
  "nbformat": 4,
  "nbformat_minor": 0,
  "metadata": {
    "colab": {
      "name": "Cnn.ipynb",
      "provenance": [],
      "collapsed_sections": [],
      "include_colab_link": true
    },
    "kernelspec": {
      "name": "python3",
      "display_name": "Python 3"
    },
    "language_info": {
      "name": "python"
    },
    "accelerator": "GPU"
  },
  "cells": [
    {
      "cell_type": "markdown",
      "metadata": {
        "id": "view-in-github",
        "colab_type": "text"
      },
      "source": [
        "<a href=\"https://colab.research.google.com/github/er-jk/CNN/blob/main/Cnn.ipynb\" target=\"_parent\"><img src=\"https://colab.research.google.com/assets/colab-badge.svg\" alt=\"Open In Colab\"/></a>"
      ]
    },
    {
      "cell_type": "markdown",
      "metadata": {
        "id": "L0n1uyAZs_ZI"
      },
      "source": [
        "Cnn"
      ]
    },
    {
      "cell_type": "code",
      "metadata": {
        "colab": {
          "base_uri": "https://localhost:8080/"
        },
        "id": "YlZBgf1TxKaN",
        "outputId": "db9ed30f-554a-4997-f9e9-4593043ce56a"
      },
      "source": [
        "from google.colab import drive\n",
        "drive.mount('/content/drive')"
      ],
      "execution_count": null,
      "outputs": [
        {
          "output_type": "stream",
          "name": "stdout",
          "text": [
            "Mounted at /content/drive\n"
          ]
        }
      ]
    },
    {
      "cell_type": "code",
      "metadata": {
        "id": "bic8t-Nasntk"
      },
      "source": [
        "#!pip install tensorflow\n",
        "import tensorflow as tf\n",
        "from keras.preprocessing.image import ImageDataGenerator\n",
        "from tensorflow.keras import datasets, layers, models"
      ],
      "execution_count": null,
      "outputs": []
    },
    {
      "cell_type": "code",
      "metadata": {
        "colab": {
          "base_uri": "https://localhost:8080/",
          "height": 35
        },
        "id": "uYUNvCUNvbPR",
        "outputId": "a32ff6a2-ae87-40e1-c09e-84f4e790c6f2"
      },
      "source": [
        "tf.__version__"
      ],
      "execution_count": null,
      "outputs": [
        {
          "output_type": "execute_result",
          "data": {
            "application/vnd.google.colaboratory.intrinsic+json": {
              "type": "string"
            },
            "text/plain": [
              "'2.6.0'"
            ]
          },
          "metadata": {},
          "execution_count": 5
        }
      ]
    },
    {
      "cell_type": "code",
      "metadata": {
        "colab": {
          "base_uri": "https://localhost:8080/"
        },
        "id": "idEkRcNpvkvn",
        "outputId": "f40cf49a-4648-4c5d-e8bc-9812e6ec8c7c"
      },
      "source": [
        "\n",
        "train_datagen = ImageDataGenerator(rescale=1./255, shear_range= 0.2, zoom_range=0.2, horizontal_flip= True)\n",
        "\n",
        "training_set = train_datagen.flow_from_directory(directory= \"/content/drive/MyDrive/Deep_learning_lab/cat_and_dog/training_set/training_set\", target_size=(64, 64), batch_size=32, class_mode= 'binary')"
      ],
      "execution_count": null,
      "outputs": [
        {
          "output_type": "stream",
          "name": "stdout",
          "text": [
            "Found 8005 images belonging to 2 classes.\n"
          ]
        }
      ]
    },
    {
      "cell_type": "code",
      "metadata": {
        "id": "RdcyCkFayFqI",
        "colab": {
          "base_uri": "https://localhost:8080/"
        },
        "outputId": "7ca7ee5d-8e90-44b2-ec50-61fd80bc9aa8"
      },
      "source": [
        "test_datagen = ImageDataGenerator(rescale = 1./255)\n",
        "test_set = test_datagen.flow_from_directory(directory= \"/content/drive/MyDrive/Deep_learning_lab/cat_and_dog/test_set/test_set\", target_size=(64, 64), batch_size=32, class_mode= 'binary')"
      ],
      "execution_count": null,
      "outputs": [
        {
          "output_type": "stream",
          "name": "stdout",
          "text": [
            "Found 2023 images belonging to 2 classes.\n"
          ]
        }
      ]
    },
    {
      "cell_type": "code",
      "metadata": {
        "id": "Fzl61YBa6smn"
      },
      "source": [
        "from tensorflow.keras.layers import Conv2D\n",
        "from tensorflow.keras.layers import Dense\n",
        "from tensorflow.keras.regularizers import l2"
      ],
      "execution_count": null,
      "outputs": []
    },
    {
      "cell_type": "markdown",
      "metadata": {
        "id": "DR3X4XDM_wKb"
      },
      "source": [
        "Building the Cnn"
      ]
    },
    {
      "cell_type": "code",
      "metadata": {
        "id": "5bH-1ZNW_4SW"
      },
      "source": [
        "cnn = tf.keras.models.Sequential()\n",
        "\n",
        "cnn.add(tf.keras.layers.Conv2D(filters=32, padding='same', kernel_size=3, activation='relu', strides=2, input_shape = [64,64,3]))\n",
        "\n",
        "cnn.add(tf.keras.layers.MaxPool2D(pool_size=2, strides=2))"
      ],
      "execution_count": null,
      "outputs": []
    },
    {
      "cell_type": "markdown",
      "metadata": {
        "id": "-c0Wwu27BSVL"
      },
      "source": [
        "Adding a second convolution layer"
      ]
    },
    {
      "cell_type": "code",
      "metadata": {
        "id": "IDIa4qAxBRar"
      },
      "source": [
        "cnn.add(tf.keras.layers.Conv2D(filters=32, padding='same', kernel_size=3, activation='relu', strides=2, input_shape = [64,64,3]))\n",
        "\n",
        "cnn.add(tf.keras.layers.MaxPool2D(pool_size=2, strides=2))\n",
        "\n",
        "\n",
        "cnn.add(tf.keras.layers.Flatten())\n",
        "\n",
        "cnn.add(tf.keras.layers.Dense(units=128, activation='relu'))\n",
        "\n",
        "cnn.add(Dense(1, kernel_regularizer=tf.keras.regularizers.l2(0.01), activation='linear'))"
      ],
      "execution_count": null,
      "outputs": []
    },
    {
      "cell_type": "markdown",
      "metadata": {
        "id": "39jzXPy5Dv7s"
      },
      "source": [
        "Traing CNN"
      ]
    },
    {
      "cell_type": "code",
      "metadata": {
        "colab": {
          "base_uri": "https://localhost:8080/"
        },
        "id": "HuoMWLn2DvBn",
        "outputId": "1a23cc8e-569a-437e-e20e-234447391bb0"
      },
      "source": [
        "cnn.compile(optimizer='adam', loss='squared_hinge', metrics=['accuracy'])\n",
        "r = cnn.fit(x = training_set, validation_data= test_set, epochs=10)"
      ],
      "execution_count": null,
      "outputs": [
        {
          "output_type": "stream",
          "name": "stdout",
          "text": [
            "Epoch 1/10\n",
            "251/251 [==============================] - 52s 204ms/step - loss: 0.7361 - accuracy: 0.6405 - val_loss: 0.7132 - val_accuracy: 0.6303\n",
            "Epoch 2/10\n",
            "251/251 [==============================] - 50s 200ms/step - loss: 0.7163 - accuracy: 0.6510 - val_loss: 0.7111 - val_accuracy: 0.7069\n",
            "Epoch 3/10\n",
            "251/251 [==============================] - 50s 198ms/step - loss: 0.6884 - accuracy: 0.6647 - val_loss: 0.7149 - val_accuracy: 0.7311\n",
            "Epoch 4/10\n",
            "251/251 [==============================] - 50s 199ms/step - loss: 0.6737 - accuracy: 0.6761 - val_loss: 0.6720 - val_accuracy: 0.7054\n",
            "Epoch 5/10\n",
            "251/251 [==============================] - 51s 202ms/step - loss: 0.6658 - accuracy: 0.6795 - val_loss: 0.7785 - val_accuracy: 0.7464\n",
            "Epoch 6/10\n",
            "251/251 [==============================] - 50s 199ms/step - loss: 0.6519 - accuracy: 0.6862 - val_loss: 0.6614 - val_accuracy: 0.7034\n",
            "Epoch 7/10\n",
            "251/251 [==============================] - 51s 202ms/step - loss: 0.6377 - accuracy: 0.6936 - val_loss: 0.6417 - val_accuracy: 0.7034\n",
            "Epoch 8/10\n",
            "251/251 [==============================] - 50s 200ms/step - loss: 0.6255 - accuracy: 0.7006 - val_loss: 0.6399 - val_accuracy: 0.6896\n",
            "Epoch 9/10\n",
            "251/251 [==============================] - 50s 198ms/step - loss: 0.6168 - accuracy: 0.7024 - val_loss: 0.6834 - val_accuracy: 0.7578\n",
            "Epoch 10/10\n",
            "251/251 [==============================] - 50s 200ms/step - loss: 0.6119 - accuracy: 0.7062 - val_loss: 0.6252 - val_accuracy: 0.7247\n"
          ]
        }
      ]
    },
    {
      "cell_type": "markdown",
      "metadata": {
        "id": "__94V0dHE5sN"
      },
      "source": [
        "plot the loss"
      ]
    },
    {
      "cell_type": "code",
      "metadata": {
        "colab": {
          "base_uri": "https://localhost:8080/",
          "height": 282
        },
        "id": "21duUE7TE8Vd",
        "outputId": "eae99bb6-19eb-46ad-b1f0-5bba8854f7f1"
      },
      "source": [
        "import matplotlib.pyplot as plt\n",
        "plt.plot(r.history['loss'], label = 'train loss')\n",
        "plt.plot(r.history['val_loss'], label = 'val loss')\n",
        "plt.legend()\n",
        "plt.show()\n",
        "plt.savefig('LossVal_loss')"
      ],
      "execution_count": null,
      "outputs": [
        {
          "output_type": "display_data",
          "data": {
            "image/png": "[encoded data removed]",
            "text/plain": [
              "<Figure size 432x288 with 1 Axes>"
            ]
          },
          "metadata": {
            "needs_background": "light"
          }
        },
        {
          "output_type": "display_data",
          "data": {
            "text/plain": [
              "<Figure size 432x288 with 0 Axes>"
            ]
          },
          "metadata": {}
        }
      ]
    },
    {
      "cell_type": "markdown",
      "metadata": {
        "id": "DwIg8A9WRuqF"
      },
      "source": [
        "Accuracy Plot"
      ]
    },
    {
      "cell_type": "code",
      "metadata": {
        "colab": {
          "base_uri": "https://localhost:8080/",
          "height": 282
        },
        "id": "TwYQL7C_RxdL",
        "outputId": "e3fa4102-e5a7-4b77-9672-8c0ee963a9d9"
      },
      "source": [
        "plt.plot(r.history['accuracy'], label = 'train accuracy')\n",
        "plt.plot(r.history['val_accuracy'], label = 'val accuracy')\n",
        "plt.legend()\n",
        "plt.show()\n",
        "plt.savefig('AccuracyVal_acc')"
      ],
      "execution_count": null,
      "outputs": [
        {
          "output_type": "display_data",
          "data": {
            "image/png": "[encoded data removed]",
            "text/plain": [
              "<Figure size 432x288 with 1 Axes>"
            ]
          },
          "metadata": {
            "needs_background": "light"
          }
        },
        {
          "output_type": "display_data",
          "data": {
            "text/plain": [
              "<Figure size 432x288 with 0 Axes>"
            ]
          },
          "metadata": {}
        }
      ]
    },
    {
      "cell_type": "code",
      "metadata": {
        "id": "idBY0lnfEI-a"
      },
      "source": [
        "from tensorflow.keras.models import load_model\n",
        "cnn.save(\"model_rcat_dog.h5\")\n",
        "model=load_model(\"model_rcat_dog.h5\")"
      ],
      "execution_count": null,
      "outputs": []
    },
    {
      "cell_type": "code",
      "metadata": {
        "colab": {
          "base_uri": "https://localhost:8080/"
        },
        "id": "oWeYZYoIENiM",
        "outputId": "19802f64-c0d1-4e18-aec7-f04c72bea636"
      },
      "source": [
        "model.summary()"
      ],
      "execution_count": null,
      "outputs": [
        {
          "output_type": "stream",
          "name": "stdout",
          "text": [
            "Model: \"sequential_1\"\n",
            "_________________________________________________________________\n",
            "Layer (type)                 Output Shape              Param #   \n",
            "=================================================================\n",
            "conv2d_2 (Conv2D)            (None, 32, 32, 32)        896       \n",
            "_________________________________________________________________\n",
            "max_pooling2d_2 (MaxPooling2 (None, 16, 16, 32)        0         \n",
            "_________________________________________________________________\n",
            "conv2d_3 (Conv2D)            (None, 8, 8, 32)          9248      \n",
            "_________________________________________________________________\n",
            "max_pooling2d_3 (MaxPooling2 (None, 4, 4, 32)          0         \n",
            "_________________________________________________________________\n",
            "flatten_1 (Flatten)          (None, 512)               0         \n",
            "_________________________________________________________________\n",
            "dense_2 (Dense)              (None, 128)               65664     \n",
            "_________________________________________________________________\n",
            "dense_3 (Dense)              (None, 1)                 129       \n",
            "=================================================================\n",
            "Total params: 75,937\n",
            "Trainable params: 75,937\n",
            "Non-trainable params: 0\n",
            "_________________________________________________________________\n"
          ]
        }
      ]
    },
    {
      "cell_type": "code",
      "metadata": {
        "colab": {
          "base_uri": "https://localhost:8080/"
        },
        "id": "8TJrA61HERyk",
        "outputId": "f5d4e08f-8351-4705-b6e9-d13d9945b524"
      },
      "source": [
        "import numpy as np\n",
        "from tensorflow.keras.preprocessing import image\n",
        "test_image=image.load_img(\"/content/drive/MyDrive/Deep_learning_lab/cat_and_dog/cat.jpg\",target_size=(64,64))\n",
        "test_image=image.img_to_array(test_image)\n",
        "test_image=test_image/255\n",
        "test_image=np.expand_dims(test_image,axis=0)\n",
        "result=cnn.predict(test_image)\n",
        "print(result)\n",
        "if result[0]>0:\n",
        "  print(\"The image classified is Cat\")\n",
        "else:\n",
        "  print(\"The image classified is Dog\")"
      ],
      "execution_count": null,
      "outputs": [
        {
          "output_type": "stream",
          "name": "stdout",
          "text": [
            "[[0.11631071]]\n",
            "The image classified is Cat\n"
          ]
        }
      ]
    }
  ]
}
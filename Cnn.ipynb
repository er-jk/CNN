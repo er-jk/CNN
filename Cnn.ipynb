{
  "nbformat": 4,
  "nbformat_minor": 0,
  "metadata": {
    "colab": {
      "name": "Cnn.ipynb",
      "provenance": [],
      "collapsed_sections": [],
      "authorship_tag": "ABX9TyO0hDq/rU48/kyt5BLyk22E",
      "include_colab_link": true
    },
    "kernelspec": {
      "name": "python3",
      "display_name": "Python 3"
    },
    "language_info": {
      "name": "python"
    },
    "accelerator": "GPU"
  },
  "cells": [
    {
      "cell_type": "markdown",
      "metadata": {
        "id": "view-in-github",
        "colab_type": "text"
      },
      "source": [
        "<a href=\"https://colab.research.google.com/github/er-jk/CNN/blob/main/Cnn.ipynb\" target=\"_parent\"><img src=\"https://colab.research.google.com/assets/colab-badge.svg\" alt=\"Open In Colab\"/></a>"
      ]
    },
    {
      "cell_type": "markdown",
      "metadata": {
        "id": "L0n1uyAZs_ZI"
      },
      "source": [
        "Cnn"
      ]
    },
    {
      "cell_type": "code",
      "metadata": {
        "id": "bic8t-Nasntk"
      },
      "source": [
        "#!pip install tensorflow\n",
        "import tensorflow as tf\n",
        "from keras.preprocessing.image import ImageDataGenerator\n",
        "from tensorflow.keras import datasets, layers, models"
      ],
      "execution_count": 37,
      "outputs": []
    },
    {
      "cell_type": "code",
      "metadata": {
        "colab": {
          "base_uri": "https://localhost:8080/",
          "height": 35
        },
        "id": "uYUNvCUNvbPR",
        "outputId": "f99911cf-c08d-49fb-f4a6-108cdbb7364a"
      },
      "source": [
        "tf.__version__"
      ],
      "execution_count": 38,
      "outputs": [
        {
          "output_type": "execute_result",
          "data": {
            "application/vnd.google.colaboratory.intrinsic+json": {
              "type": "string"
            },
            "text/plain": [
              "'2.6.0'"
            ]
          },
          "metadata": {},
          "execution_count": 38
        }
      ]
    },
    {
      "cell_type": "code",
      "metadata": {
        "colab": {
          "base_uri": "https://localhost:8080/"
        },
        "id": "idEkRcNpvkvn",
        "outputId": "63ec6850-3d1f-4c39-ff0d-2537369fb215"
      },
      "source": [
        "\n",
        "train_datagen = ImageDataGenerator(rescale=1./255, shear_range= 0.2, zoom_range=0.2, horizontal_flip= True)\n",
        "\n",
        "training_set = train_datagen.flow_from_directory(directory= \"/content/Train\", target_size=(64, 64), batch_size=32, class_mode= 'binary')"
      ],
      "execution_count": 45,
      "outputs": [
        {
          "output_type": "stream",
          "name": "stdout",
          "text": [
            "Found 2408 images belonging to 3 classes.\n"
          ]
        }
      ]
    },
    {
      "cell_type": "code",
      "metadata": {
        "id": "RdcyCkFayFqI",
        "colab": {
          "base_uri": "https://localhost:8080/"
        },
        "outputId": "0ee5dbda-d45d-4273-d3cc-9899038c7d2b"
      },
      "source": [
        "test_datagen = ImageDataGenerator(rescale = 1./255)\n",
        "test_set = test_datagen.flow_from_directory(directory= \"/content/Test\", target_size=(64, 64), batch_size=32, class_mode= 'binary')"
      ],
      "execution_count": 46,
      "outputs": [
        {
          "output_type": "stream",
          "name": "stdout",
          "text": [
            "Found 1965 images belonging to 3 classes.\n"
          ]
        }
      ]
    },
    {
      "cell_type": "code",
      "metadata": {
        "id": "Fzl61YBa6smn"
      },
      "source": [
        "from tensorflow.keras.layers import Conv2D\n",
        "from tensorflow.keras.layers import Dense\n",
        "from tensorflow.keras.regularizers import l2"
      ],
      "execution_count": 41,
      "outputs": []
    },
    {
      "cell_type": "markdown",
      "metadata": {
        "id": "DR3X4XDM_wKb"
      },
      "source": [
        "Building the Cnn"
      ]
    },
    {
      "cell_type": "code",
      "metadata": {
        "id": "5bH-1ZNW_4SW"
      },
      "source": [
        "cnn = tf.keras.models.Sequential()\n",
        "\n",
        "cnn.add(tf.keras.layers.Conv2D(filters=32, padding='same', kernel_size=3, activation='relu', strides=2, input_shape = [64,64,3]))\n",
        "\n",
        "cnn.add(tf.keras.layers.MaxPool2D(pool_size=2, strides=2))"
      ],
      "execution_count": 42,
      "outputs": []
    },
    {
      "cell_type": "markdown",
      "metadata": {
        "id": "-c0Wwu27BSVL"
      },
      "source": [
        "Adding a second convolution layer"
      ]
    },
    {
      "cell_type": "code",
      "metadata": {
        "id": "IDIa4qAxBRar"
      },
      "source": [
        "cnn.add(tf.keras.layers.Conv2D(filters=32, padding='same', kernel_size=3, activation='relu', strides=2, input_shape = [64,64,3]))\n",
        "\n",
        "cnn.add(tf.keras.layers.MaxPool2D(pool_size=2, strides=2))\n",
        "\n",
        "\n",
        "cnn.add(tf.keras.layers.Flatten())\n",
        "\n",
        "cnn.add(tf.keras.layers.Dense(units=128, activation='relu'))\n",
        "\n",
        "cnn.add(Dense(1, kernel_regularizer=tf.keras.regularizers.l2(0.01), activation='linear'))"
      ],
      "execution_count": 43,
      "outputs": []
    },
    {
      "cell_type": "markdown",
      "metadata": {
        "id": "39jzXPy5Dv7s"
      },
      "source": [
        "Traing CNN"
      ]
    },
    {
      "cell_type": "code",
      "metadata": {
        "colab": {
          "base_uri": "https://localhost:8080/"
        },
        "id": "HuoMWLn2DvBn",
        "outputId": "dce7a08d-ff24-46e4-c341-f44d997a3675"
      },
      "source": [
        "cnn.compile(optimizer='adam', loss='hinge', metrics=['accuracy'])\n",
        "r = cnn.fit(x = training_set, validation_data= test_set, epochs=10)"
      ],
      "execution_count": 47,
      "outputs": [
        {
          "output_type": "stream",
          "name": "stdout",
          "text": [
            "Epoch 1/10\n",
            "76/76 [==============================] - 41s 192ms/step - loss: 0.0337 - accuracy: 0.5677 - val_loss: 0.0124 - val_accuracy: 0.5145\n",
            "Epoch 2/10\n",
            "76/76 [==============================] - 15s 193ms/step - loss: 0.0104 - accuracy: 0.5797 - val_loss: 0.0088 - val_accuracy: 0.5145\n",
            "Epoch 3/10\n",
            "76/76 [==============================] - 15s 192ms/step - loss: 0.0076 - accuracy: 0.5797 - val_loss: 0.0066 - val_accuracy: 0.5145\n",
            "Epoch 4/10\n",
            "76/76 [==============================] - 15s 194ms/step - loss: 0.0059 - accuracy: 0.5797 - val_loss: 0.0052 - val_accuracy: 0.5145\n",
            "Epoch 5/10\n",
            "76/76 [==============================] - 14s 190ms/step - loss: 0.0047 - accuracy: 0.5797 - val_loss: 0.0042 - val_accuracy: 0.5145\n",
            "Epoch 6/10\n",
            "76/76 [==============================] - 14s 189ms/step - loss: 0.0038 - accuracy: 0.5797 - val_loss: 0.0034 - val_accuracy: 0.5145\n",
            "Epoch 7/10\n",
            "76/76 [==============================] - 14s 188ms/step - loss: 0.0031 - accuracy: 0.5797 - val_loss: 0.0028 - val_accuracy: 0.5145\n",
            "Epoch 8/10\n",
            "76/76 [==============================] - 14s 188ms/step - loss: 0.0025 - accuracy: 0.5797 - val_loss: 0.0023 - val_accuracy: 0.5145\n",
            "Epoch 9/10\n",
            "76/76 [==============================] - 14s 189ms/step - loss: 0.0020 - accuracy: 0.5797 - val_loss: 0.0018 - val_accuracy: 0.5145\n",
            "Epoch 10/10\n",
            "76/76 [==============================] - 14s 188ms/step - loss: 0.0017 - accuracy: 0.5797 - val_loss: 0.0015 - val_accuracy: 0.5145\n"
          ]
        }
      ]
    },
    {
      "cell_type": "markdown",
      "metadata": {
        "id": "__94V0dHE5sN"
      },
      "source": [
        "plot the loss"
      ]
    },
    {
      "cell_type": "code",
      "metadata": {
        "colab": {
          "base_uri": "https://localhost:8080/",
          "height": 284
        },
        "id": "21duUE7TE8Vd",
        "outputId": "a784d0c4-c083-4f64-dbaa-2156318dd905"
      },
      "source": [
        "import matplotlib.pyplot as plt\n",
        "plt.plot(r.history['loss'], label = 'train loss')\n",
        "plt.plot(r.history['val_loss'], label = 'val loss')\n",
        "plt.legend()\n",
        "plt.show()\n",
        "plt.savefig('LossVal_loss')"
      ],
      "execution_count": 50,
      "outputs": [
        {
          "output_type": "display_data",
          "data": {
            "image/png": "[encoded data removed]",
            "text/plain": [
              "<Figure size 432x288 with 1 Axes>"
            ]
          },
          "metadata": {
            "needs_background": "light"
          }
        },
        {
          "output_type": "display_data",
          "data": {
            "text/plain": [
              "<Figure size 432x288 with 0 Axes>"
            ]
          },
          "metadata": {}
        }
      ]
    },
    {
      "cell_type": "markdown",
      "metadata": {
        "id": "DwIg8A9WRuqF"
      },
      "source": [
        "Accuracy Plot"
      ]
    },
    {
      "cell_type": "code",
      "metadata": {
        "colab": {
          "base_uri": "https://localhost:8080/",
          "height": 282
        },
        "id": "TwYQL7C_RxdL",
        "outputId": "c3bacad1-a856-40c3-c0f8-f6d7b2347078"
      },
      "source": [
        "plt.plot(r.history['accuracy'], label = 'train accuracy')\n",
        "plt.plot(r.history['val_accuracy'], label = 'val accuracy')\n",
        "plt.legend()\n",
        "plt.show()\n",
        "plt.savefig('AccuracyVal_acc')"
      ],
      "execution_count": 51,
      "outputs": [
        {
          "output_type": "display_data",
          "data": {
            "image/png": "[encoded data removed]",
            "text/plain": [
              "<Figure size 432x288 with 1 Axes>"
            ]
          },
          "metadata": {
            "needs_background": "light"
          }
        },
        {
          "output_type": "display_data",
          "data": {
            "text/plain": [
              "<Figure size 432x288 with 0 Axes>"
            ]
          },
          "metadata": {}
        }
      ]
    }
  ]
}